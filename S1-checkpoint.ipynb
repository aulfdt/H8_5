{
 "cells": [
  {
   "cell_type": "markdown",
   "id": "2f153448",
   "metadata": {},
   "source": [
    "# TIPE DATA"
   ]
  },
  {
   "cell_type": "markdown",
   "id": "8c75cea6",
   "metadata": {},
   "source": [
    "### Tipe Data Interger"
   ]
  },
  {
   "cell_type": "code",
   "execution_count": 2,
   "id": "1428df53",
   "metadata": {},
   "outputs": [
    {
     "name": "stdout",
     "output_type": "stream",
     "text": [
      "123123123123123123124\n"
     ]
    }
   ],
   "source": [
    "print(123123123123123123123 + 1)"
   ]
  },
  {
   "cell_type": "code",
   "execution_count": 3,
   "id": "164dd857",
   "metadata": {},
   "outputs": [
    {
     "name": "stdout",
     "output_type": "stream",
     "text": [
      "10\n",
      "<class 'int'>\n"
     ]
    }
   ],
   "source": [
    "print(10)\n",
    "print(type(10))"
   ]
  },
  {
   "cell_type": "markdown",
   "id": "0cf92b4c",
   "metadata": {},
   "source": [
    "#### Floating-Point Numbers"
   ]
  },
  {
   "cell_type": "code",
   "execution_count": 4,
   "id": "6eaf3761",
   "metadata": {},
   "outputs": [
    {
     "name": "stdout",
     "output_type": "stream",
     "text": [
      "4.2\n",
      "<class 'float'>\n"
     ]
    }
   ],
   "source": [
    "print(4.2)\n",
    "print(type(4.2))"
   ]
  },
  {
   "cell_type": "code",
   "execution_count": 6,
   "id": "d7f0f104",
   "metadata": {},
   "outputs": [
    {
     "name": "stdout",
     "output_type": "stream",
     "text": [
      "4.0\n",
      "0.2\n",
      "40000000.0\n",
      "0.00042\n"
     ]
    }
   ],
   "source": [
    "print(4.)\n",
    "print(.2)\n",
    "print(4e7)\n",
    "print(4.2e-4)"
   ]
  },
  {
   "cell_type": "markdown",
   "id": "e06269da",
   "metadata": {},
   "source": [
    "###  Tipe Data Strings"
   ]
  },
  {
   "cell_type": "code",
   "execution_count": 7,
   "id": "4fd2924f",
   "metadata": {},
   "outputs": [
    {
     "name": "stdout",
     "output_type": "stream",
     "text": [
      "Hactiv8\n",
      "<class 'str'>\n"
     ]
    }
   ],
   "source": [
    "print(\"Hactiv8\")\n",
    "print(type(\"Hactiv8\"))"
   ]
  },
  {
   "cell_type": "code",
   "execution_count": 10,
   "id": "3cd29958",
   "metadata": {},
   "outputs": [
    {
     "name": "stdout",
     "output_type": "stream",
     "text": [
      "\n",
      "This string contains a single quote (') character.\n",
      "This string contains a double quote (\") character.\n"
     ]
    }
   ],
   "source": [
    "print('')\n",
    "print(\"This string contains a single quote (') character.\")\n",
    "print('This string contains a double quote (\") character.')"
   ]
  },
  {
   "cell_type": "markdown",
   "id": "64721671",
   "metadata": {},
   "source": [
    "### Tipe Data Boolean"
   ]
  },
  {
   "cell_type": "code",
   "execution_count": 2,
   "id": "80c05761",
   "metadata": {},
   "outputs": [
    {
     "name": "stdout",
     "output_type": "stream",
     "text": [
      "<class 'bool'>\n",
      "<class 'bool'>\n"
     ]
    }
   ],
   "source": [
    "print(type(True))\n",
    "print(type(False))"
   ]
  },
  {
   "cell_type": "markdown",
   "id": "feee016a",
   "metadata": {},
   "source": [
    "# Variabel Assignment"
   ]
  },
  {
   "cell_type": "code",
   "execution_count": 3,
   "id": "4f91345c",
   "metadata": {},
   "outputs": [
    {
     "name": "stdout",
     "output_type": "stream",
     "text": [
      "300\n"
     ]
    }
   ],
   "source": [
    "n = 300\n",
    "print(n)"
   ]
  },
  {
   "cell_type": "code",
   "execution_count": 4,
   "id": "93390796",
   "metadata": {},
   "outputs": [
    {
     "name": "stdout",
     "output_type": "stream",
     "text": [
      "300 300 300\n"
     ]
    }
   ],
   "source": [
    "a = b = c = 300\n",
    "print(a, b, c)"
   ]
  },
  {
   "cell_type": "code",
   "execution_count": 6,
   "id": "00281a8b",
   "metadata": {},
   "outputs": [
    {
     "name": "stdout",
     "output_type": "stream",
     "text": [
      "23.5\n",
      "Now I'm a string\n"
     ]
    }
   ],
   "source": [
    "var = 23.5\n",
    "print(var)\n",
    "var = \"Now I'm a string\"\n",
    "print(var)"
   ]
  },
  {
   "cell_type": "markdown",
   "id": "0913b9b8",
   "metadata": {},
   "source": [
    "### Variable Names"
   ]
  },
  {
   "cell_type": "code",
   "execution_count": 7,
   "id": "54a8712e",
   "metadata": {},
   "outputs": [
    {
     "name": "stdout",
     "output_type": "stream",
     "text": [
      "Hackiv8 54 True\n"
     ]
    }
   ],
   "source": [
    "name = \"Hackiv8\"\n",
    "Age = 54\n",
    "has_laptops = True\n",
    "print(name, Age, has_laptops)"
   ]
  },
  {
   "cell_type": "code",
   "execution_count": 9,
   "id": "bfc0509f",
   "metadata": {},
   "outputs": [
    {
     "name": "stdout",
     "output_type": "stream",
     "text": [
      "1 2 3 4 5 6 7 8\n"
     ]
    }
   ],
   "source": [
    "age = 1\n",
    "Age = 2\n",
    "aGe = 3\n",
    "AGE = 4\n",
    "a_g_e = 5\n",
    "_age = 6\n",
    "age_ = 7\n",
    "_AGE_ = 8\n",
    "\n",
    "print(age, Age, aGe, AGE, a_g_e, _age, age_, _AGE_)"
   ]
  },
  {
   "cell_type": "markdown",
   "id": "cef9ba5c",
   "metadata": {},
   "source": [
    "# Operators and Expressions"
   ]
  },
  {
   "cell_type": "code",
   "execution_count": 10,
   "id": "332f85b2",
   "metadata": {},
   "outputs": [
    {
     "data": {
      "text/plain": [
       "30"
      ]
     },
     "execution_count": 10,
     "metadata": {},
     "output_type": "execute_result"
    }
   ],
   "source": [
    "a = 10\n",
    "b = 20\n",
    "a + b\n"
   ]
  },
  {
   "cell_type": "code",
   "execution_count": 11,
   "id": "6b08c3a4",
   "metadata": {},
   "outputs": [
    {
     "data": {
      "text/plain": [
       "25"
      ]
     },
     "execution_count": 11,
     "metadata": {},
     "output_type": "execute_result"
    }
   ],
   "source": [
    "a = 10\n",
    "b = 20\n",
    "a + b - 5"
   ]
  },
  {
   "cell_type": "markdown",
   "id": "3fb8482d",
   "metadata": {},
   "source": [
    "### Arithmetic Operators"
   ]
  },
  {
   "cell_type": "code",
   "execution_count": 14,
   "id": "26d32760",
   "metadata": {},
   "outputs": [
    {
     "name": "stdout",
     "output_type": "stream",
     "text": [
      "7\n",
      "1\n",
      "12\n",
      "1.3333333333333333\n",
      "1\n",
      "64\n"
     ]
    }
   ],
   "source": [
    "a = 4\n",
    "b = 3\n",
    "\n",
    "print(a + b)\n",
    "print(a - b)\n",
    "print(a * b)\n",
    "print(a / b)\n",
    "print(a % b)\n",
    "print(a ** b)"
   ]
  },
  {
   "cell_type": "code",
   "execution_count": 18,
   "id": "14e5b967",
   "metadata": {},
   "outputs": [
    {
     "data": {
      "text/plain": [
       "5.0"
      ]
     },
     "execution_count": 18,
     "metadata": {},
     "output_type": "execute_result"
    }
   ],
   "source": [
    "# Hasil standar dari pembagian (/) selalu berbentuk float. Meskipun habis terbagi.\n",
    "20/4"
   ]
  },
  {
   "cell_type": "markdown",
   "id": "e9a11ec8",
   "metadata": {},
   "source": [
    "### Operator Pembanding"
   ]
  },
  {
   "cell_type": "code",
   "execution_count": 19,
   "id": "2788bbac",
   "metadata": {},
   "outputs": [
    {
     "name": "stdout",
     "output_type": "stream",
     "text": [
      "False\n",
      "True\n",
      "True\n",
      "False\n",
      "True\n",
      "True\n",
      "True\n"
     ]
    }
   ],
   "source": [
    "a = 10\n",
    "b = 20\n",
    "print(a == b)\n",
    "print(a != b)\n",
    "print(a <= b)\n",
    "print(a >= b)\n",
    "\n",
    "a = 30\n",
    "b = 30\n",
    "print(a == b)\n",
    "print(a <= b)\n",
    "print(a >= b)"
   ]
  },
  {
   "cell_type": "markdown",
   "id": "beece2e4",
   "metadata": {},
   "source": [
    "### String Manipulation"
   ]
  },
  {
   "cell_type": "code",
   "execution_count": 21,
   "id": "c87f1147",
   "metadata": {},
   "outputs": [
    {
     "name": "stdout",
     "output_type": "stream",
     "text": [
      "foobar\n",
      "foobarbaz\n",
      "Hactiv8 PTP\n"
     ]
    }
   ],
   "source": [
    "# + Operators\n",
    "s = 'foo'\n",
    "t = 'bar'\n",
    "u = 'baz'\n",
    "\n",
    "print(s + t)\n",
    "print(s + t + u)\n",
    "print('Hactiv8 ' + 'PTP')\n"
   ]
  },
  {
   "cell_type": "code",
   "execution_count": 23,
   "id": "7e35b420",
   "metadata": {},
   "outputs": [
    {
     "data": {
      "text/plain": [
       "'foo.foo.foo.foo.'"
      ]
     },
     "execution_count": 23,
     "metadata": {},
     "output_type": "execute_result"
    }
   ],
   "source": [
    "# * Operators\n",
    "s = 'foo.'\n",
    "s * 4"
   ]
  },
  {
   "cell_type": "code",
   "execution_count": 25,
   "id": "f02285eb",
   "metadata": {},
   "outputs": [
    {
     "name": "stdout",
     "output_type": "stream",
     "text": [
      "True\n",
      "False\n"
     ]
    }
   ],
   "source": [
    "# in Operators\n",
    "s = 'foo'\n",
    "print(s in 'That food for us')\n",
    "print(s in 'That good for us')"
   ]
  },
  {
   "cell_type": "code",
   "execution_count": 26,
   "id": "246e8c15",
   "metadata": {},
   "outputs": [
    {
     "name": "stdout",
     "output_type": "stream",
     "text": [
      "Hactiv8\n",
      "hactiv8\n",
      "hACtiv8\n",
      "Hactiv8\n",
      "HACTIV8\n"
     ]
    }
   ],
   "source": [
    "# Case Conversion\n",
    "s = 'HacTIV8'\n",
    "\n",
    "# Capitalize\n",
    "print(s.capitalize())\n",
    "\n",
    "# Lower\n",
    "print(s.lower())\n",
    "\n",
    "# Swapcase\n",
    "print(s.swapcase())\n",
    "\n",
    "# Title\n",
    "print(s.title())\n",
    "\n",
    "\n",
    "# Uppercase\n",
    "print(s.upper())"
   ]
  },
  {
   "cell_type": "markdown",
   "id": "88b22a2e",
   "metadata": {},
   "source": [
    "# Python Lists"
   ]
  },
  {
   "cell_type": "code",
   "execution_count": 27,
   "id": "c597eba3",
   "metadata": {
    "scrolled": true
   },
   "outputs": [
    {
     "name": "stdout",
     "output_type": "stream",
     "text": [
      "['foo', 'bar', 'baz', 'qux']\n"
     ]
    }
   ],
   "source": [
    "a = ['foo', 'bar', 'baz', 'qux']\n",
    "print(a)"
   ]
  },
  {
   "cell_type": "markdown",
   "id": "8037901f",
   "metadata": {},
   "source": [
    "### Lists Are Ordered"
   ]
  },
  {
   "cell_type": "code",
   "execution_count": 28,
   "id": "76a65e05",
   "metadata": {},
   "outputs": [
    {
     "data": {
      "text/plain": [
       "False"
      ]
     },
     "execution_count": 28,
     "metadata": {},
     "output_type": "execute_result"
    }
   ],
   "source": [
    "a = ['foo', 'bar', 'baz', 'qux']\n",
    "b = ['baz', 'quz', 'bar', 'foo']\n",
    "\n",
    "a==b"
   ]
  },
  {
   "cell_type": "markdown",
   "id": "c771e724",
   "metadata": {},
   "source": [
    "### Lists Can Contain Arbitary Objects"
   ]
  },
  {
   "cell_type": "code",
   "execution_count": 29,
   "id": "c16491d4",
   "metadata": {},
   "outputs": [
    {
     "name": "stdout",
     "output_type": "stream",
     "text": [
      "[21.42, 'foobar', 3, 4, 'bark', False, 3.14159]\n"
     ]
    }
   ],
   "source": [
    "a = [21.42, 'foobar', 3, 4, 'bark', False, 3.14159]\n",
    "print(a)"
   ]
  },
  {
   "cell_type": "markdown",
   "id": "ca3b532b",
   "metadata": {},
   "source": [
    "### Lists Elements Can Be Accessed by Index"
   ]
  },
  {
   "cell_type": "code",
   "execution_count": 30,
   "id": "12d25d99",
   "metadata": {},
   "outputs": [],
   "source": [
    "a = ['foo', 'bar', 'baz', 'qux', 'quux', 'corge']"
   ]
  },
  {
   "cell_type": "code",
   "execution_count": 31,
   "id": "fad42ce3",
   "metadata": {},
   "outputs": [
    {
     "name": "stdout",
     "output_type": "stream",
     "text": [
      "foo\n",
      "corge\n"
     ]
    }
   ],
   "source": [
    "print(a[0])\n",
    "print(a[5])"
   ]
  },
  {
   "cell_type": "code",
   "execution_count": 32,
   "id": "dbc0c34f",
   "metadata": {},
   "outputs": [
    {
     "name": "stdout",
     "output_type": "stream",
     "text": [
      "corge\n",
      "foo\n"
     ]
    }
   ],
   "source": [
    "print(a[-1])\n",
    "print(a[-6])"
   ]
  },
  {
   "cell_type": "code",
   "execution_count": 33,
   "id": "b1dce923",
   "metadata": {},
   "outputs": [
    {
     "data": {
      "text/plain": [
       "['baz', 'qux', 'quux']"
      ]
     },
     "execution_count": 33,
     "metadata": {},
     "output_type": "execute_result"
    }
   ],
   "source": [
    "a[2:5]"
   ]
  },
  {
   "cell_type": "code",
   "execution_count": 34,
   "id": "b1a56a6d",
   "metadata": {},
   "outputs": [
    {
     "name": "stdout",
     "output_type": "stream",
     "text": [
      "['foo', 'bar', 'baz', 'qux', 'quux', 'corge']\n",
      "['foo', 'bar', 'baz', 'qux', 'quux', 'corge', 'grault', 'garply']\n",
      "['foo', 'bar', 'baz', 'qux', 'quux', 'corge', 'foo', 'bar', 'baz', 'qux', 'quux', 'corge']\n"
     ]
    }
   ],
   "source": [
    "# The Concatenation (+) and replication (*) operators:\n",
    "print(a)\n",
    "print(a + ['grault', 'garply'])\n",
    "print(a * 2)"
   ]
  },
  {
   "cell_type": "code",
   "execution_count": 2,
   "id": "e5fc6978",
   "metadata": {},
   "outputs": [
    {
     "name": "stdout",
     "output_type": "stream",
     "text": [
      "['foo', 'bar', 'baz', 'qux', 'quux', 'corge']\n",
      "6\n",
      "bar\n",
      "qux\n"
     ]
    }
   ],
   "source": [
    "# len(), min(), max()\n",
    "a = ['foo', 'bar', 'baz', 'qux', 'quux', 'corge']\n",
    "print(a)\n",
    "print(len(a))\n",
    "print(min(a))\n",
    "print(max(a))"
   ]
  },
  {
   "cell_type": "markdown",
   "id": "6e67e871",
   "metadata": {},
   "source": [
    "### Modifying a Single List Value"
   ]
  },
  {
   "cell_type": "code",
   "execution_count": 3,
   "id": "1384d3fc",
   "metadata": {},
   "outputs": [
    {
     "name": "stdout",
     "output_type": "stream",
     "text": [
      "['foo', 'bar', 'baz', 'qux', 'quux', 'corge']\n",
      "['foo', 'bar', 10, 'qux', 'quux', 20]\n"
     ]
    }
   ],
   "source": [
    "a = ['foo', 'bar', 'baz', 'qux', 'quux', 'corge']\n",
    "\n",
    "print(a)\n",
    "\n",
    "a[2] = 10\n",
    "a[-1] = 20\n",
    "\n",
    "print(a)"
   ]
  },
  {
   "cell_type": "markdown",
   "id": "35a7f27f",
   "metadata": {},
   "source": [
    "### Modifying Multiple List Values"
   ]
  },
  {
   "cell_type": "code",
   "execution_count": 7,
   "id": "24641bec",
   "metadata": {},
   "outputs": [
    {
     "name": "stdout",
     "output_type": "stream",
     "text": [
      "['bar', 'baz', 'qux']\n",
      "['foo', 1.1, 2.2, 3.3, 4.4, 5.5, 'quux', 'corge']\n"
     ]
    }
   ],
   "source": [
    "a = ['foo', 'bar', 'baz', 'qux', 'quux', 'corge']\n",
    "\n",
    "print(a[1:4])\n",
    "\n",
    "a[1:4] = [1.1, 2.2, 3.3, 4.4, 5.5]\n",
    "\n",
    "print(a)\n"
   ]
  },
  {
   "cell_type": "markdown",
   "id": "ac2eee3e",
   "metadata": {},
   "source": [
    "# Python Tuples"
   ]
  },
  {
   "cell_type": "markdown",
   "id": "081de8c6",
   "metadata": {},
   "source": [
    "### Defining and Using Tuples"
   ]
  },
  {
   "cell_type": "code",
   "execution_count": 8,
   "id": "9c05b5a2",
   "metadata": {},
   "outputs": [
    {
     "name": "stdout",
     "output_type": "stream",
     "text": [
      "('foo', 'bar', 'baz', 'qux', 'quux', 'corge')\n"
     ]
    }
   ],
   "source": [
    "t = ('foo', 'bar', 'baz', 'qux', 'quux', 'corge')\n",
    "print(t)"
   ]
  },
  {
   "cell_type": "code",
   "execution_count": 9,
   "id": "b86f59ef",
   "metadata": {},
   "outputs": [
    {
     "name": "stdout",
     "output_type": "stream",
     "text": [
      "foo\n",
      "corge\n"
     ]
    }
   ],
   "source": [
    "print(t[0])\n",
    "print(t[-1])"
   ]
  },
  {
   "cell_type": "code",
   "execution_count": 10,
   "id": "28d13804",
   "metadata": {},
   "outputs": [
    {
     "data": {
      "text/plain": [
       "'foo'"
      ]
     },
     "execution_count": 10,
     "metadata": {},
     "output_type": "execute_result"
    }
   ],
   "source": [
    "# Packing and Unpacking\n",
    "\n",
    "(s1, s2, s3, s4) = ('foo', 'bar', 'baz', 'qux')\n",
    "\n",
    "s1"
   ]
  },
  {
   "cell_type": "markdown",
   "id": "b1d44cf0",
   "metadata": {},
   "source": [
    "# Python Dictionary"
   ]
  },
  {
   "cell_type": "markdown",
   "id": "d3d66d1e",
   "metadata": {},
   "source": [
    "### Defining a Dictionary"
   ]
  },
  {
   "cell_type": "code",
   "execution_count": 34,
   "id": "ad599d5e",
   "metadata": {},
   "outputs": [],
   "source": [
    "MLB_team = {\n",
    "    'Colorado': 'Rockies',\n",
    "    'Boston': 'Red Sox',\n",
    "    'Minnesota': 'Twins',\n",
    "    'Milwaukee': 'Brewers',\n",
    "    'Seattle': 'Mariners'\n",
    "}\n"
   ]
  },
  {
   "cell_type": "markdown",
   "id": "c1513243",
   "metadata": {},
   "source": [
    "### Accessing Dictionary Values"
   ]
  },
  {
   "cell_type": "code",
   "execution_count": 35,
   "id": "83d17191",
   "metadata": {},
   "outputs": [
    {
     "name": "stdout",
     "output_type": "stream",
     "text": [
      "Twins\n",
      "Rockies\n"
     ]
    }
   ],
   "source": [
    "print(MLB_team['Minnesota'])\n",
    "print(MLB_team['Colorado'])"
   ]
  },
  {
   "cell_type": "code",
   "execution_count": 25,
   "id": "1ea1d6d8",
   "metadata": {},
   "outputs": [
    {
     "data": {
      "text/plain": [
       "{'Colorado': 'Rockies',\n",
       " 'Boston': 'Red Sox',\n",
       " 'Minnesota': 'Twins',\n",
       " 'Milwaukee': 'Brewers',\n",
       " 'Seattle': 'Mariners',\n",
       " 'Kansas City': 'Royals'}"
      ]
     },
     "execution_count": 25,
     "metadata": {},
     "output_type": "execute_result"
    }
   ],
   "source": [
    "MLB_team['Kansas City'] = 'Royals'\n",
    "MLB_team"
   ]
  },
  {
   "cell_type": "code",
   "execution_count": 32,
   "id": "a62d5030",
   "metadata": {},
   "outputs": [
    {
     "data": {
      "text/plain": [
       "{'Colorado': 'Rockies',\n",
       " 'Boston': 'Red Sox',\n",
       " 'Minnesota': 'Twins',\n",
       " 'Milwaukee': 'Brewers',\n",
       " 'Kansas City': 'Royals',\n",
       " 'Seattle': 'Seahawks'}"
      ]
     },
     "execution_count": 32,
     "metadata": {},
     "output_type": "execute_result"
    }
   ],
   "source": [
    "MLB_team['Seattle'] = 'Seahawks'\n",
    "MLB_team"
   ]
  },
  {
   "cell_type": "code",
   "execution_count": 33,
   "id": "3fabfec4",
   "metadata": {},
   "outputs": [
    {
     "data": {
      "text/plain": [
       "{'Colorado': 'Rockies',\n",
       " 'Boston': 'Red Sox',\n",
       " 'Minnesota': 'Twins',\n",
       " 'Milwaukee': 'Brewers',\n",
       " 'Kansas City': 'Royals'}"
      ]
     },
     "execution_count": 33,
     "metadata": {},
     "output_type": "execute_result"
    }
   ],
   "source": [
    "del MLB_team['Seattle']\n",
    "MLB_team"
   ]
  },
  {
   "cell_type": "markdown",
   "id": "d370f636",
   "metadata": {},
   "source": [
    "### Building a Dictironary Incrementally"
   ]
  },
  {
   "cell_type": "code",
   "execution_count": 14,
   "id": "789198cd",
   "metadata": {},
   "outputs": [
    {
     "data": {
      "text/plain": [
       "{'fname': 'Hack',\n",
       " 'lname': 'PTP',\n",
       " 'age': 51,\n",
       " 'spouse': 'Edna',\n",
       " 'children': ['Ralph', 'Betty', 'Joey'],\n",
       " 'pets': {'dog': 'Fido', 'cat': 'Sox'}}"
      ]
     },
     "execution_count": 14,
     "metadata": {},
     "output_type": "execute_result"
    }
   ],
   "source": [
    "person = {}\n",
    "type(person)\n",
    "\n",
    "person['fname'] = 'Hack'\n",
    "person['lname'] = 'PTP'\n",
    "person['age'] = 51\n",
    "person['spouse'] = 'Edna'\n",
    "person['children'] = ['Ralph', 'Betty', 'Joey']\n",
    "person['pets'] = {'dog' : 'Fido', 'cat' : 'Sox'}\n",
    "\n",
    "person"
   ]
  },
  {
   "cell_type": "code",
   "execution_count": 10,
   "id": "52723400",
   "metadata": {},
   "outputs": [
    {
     "name": "stdout",
     "output_type": "stream",
     "text": [
      "Hack\n",
      "PTP\n"
     ]
    }
   ],
   "source": [
    "print(person['fname'])\n",
    "print(person['lname'])"
   ]
  },
  {
   "cell_type": "code",
   "execution_count": 11,
   "id": "1b1f882e",
   "metadata": {},
   "outputs": [
    {
     "name": "stdout",
     "output_type": "stream",
     "text": [
      "['Ralph', 'Betty', 'Joey']\n",
      "Betty\n"
     ]
    }
   ],
   "source": [
    "print(person['children'])\n",
    "print(person['children'][1])"
   ]
  },
  {
   "cell_type": "code",
   "execution_count": 15,
   "id": "75a55949",
   "metadata": {},
   "outputs": [
    {
     "name": "stdout",
     "output_type": "stream",
     "text": [
      "{'dog': 'Fido', 'cat': 'Sox'}\n",
      "Sox\n"
     ]
    }
   ],
   "source": [
    "print(person['pets'])\n",
    "print(person['pets']['cat'])"
   ]
  },
  {
   "cell_type": "code",
   "execution_count": 20,
   "id": "2311b0be",
   "metadata": {},
   "outputs": [
    {
     "data": {
      "text/plain": [
       "{'dog': 'Fido', 'cat': 'Sox'}"
      ]
     },
     "execution_count": 20,
     "metadata": {},
     "output_type": "execute_result"
    }
   ],
   "source": [
    "{'dog': 'Fido', 'cat': 'Sox'}"
   ]
  },
  {
   "cell_type": "code",
   "execution_count": 22,
   "id": "43de4ddb",
   "metadata": {},
   "outputs": [
    {
     "name": "stdout",
     "output_type": "stream",
     "text": [
      "dict_items([('a', 10), ('b', 20), ('c', 30)])\n",
      "dict_keys(['a', 'b', 'c'])\n",
      "dict_values([10, 20, 30])\n"
     ]
    }
   ],
   "source": [
    "# Built-in Methods\n",
    "d = {'a': 10, 'b':20, 'c':30}\n",
    "\n",
    "# Items\n",
    "print(d.items())\n",
    "\n",
    "# Keys\n",
    "print(d.keys())\n",
    "\n",
    "#values\n",
    "print(d.values())"
   ]
  },
  {
   "cell_type": "markdown",
   "id": "062e6fa4",
   "metadata": {},
   "source": [
    "### Line Continuation"
   ]
  },
  {
   "cell_type": "code",
   "execution_count": 23,
   "id": "183dd0be",
   "metadata": {},
   "outputs": [
    {
     "data": {
      "text/plain": [
       "True"
      ]
     },
     "execution_count": 23,
     "metadata": {},
     "output_type": "execute_result"
    }
   ],
   "source": [
    "person1_age = 42\n",
    "person2_age = 16\n",
    "person3_age = 71\n",
    "\n",
    "someone_is_of_working_age = (person1_age >= 18 and person1_age <= 65) or (person2_age >= 18 and person2_age <= 65) or (person3_age >= 18 and person3_age <= 65)\n",
    "someone_is_of_working_age"
   ]
  },
  {
   "cell_type": "code",
   "execution_count": 25,
   "id": "5e4277b7",
   "metadata": {},
   "outputs": [
    {
     "data": {
      "text/plain": [
       "True"
      ]
     },
     "execution_count": 25,
     "metadata": {},
     "output_type": "execute_result"
    }
   ],
   "source": [
    "someone_is_of_wokring_age = (\n",
    "    (person1_age >= 18 and person1_age <= 65)\n",
    "    or (person2_age >= 18 and person2_age <= 65)\n",
    "    or (person3_age >= 18 and person3_age <= 65)\n",
    ")\n",
    "\n",
    "someone_is_of_working_age"
   ]
  },
  {
   "cell_type": "code",
   "execution_count": null,
   "id": "06511069",
   "metadata": {},
   "outputs": [],
   "source": []
  }
 ],
 "metadata": {
  "kernelspec": {
   "display_name": "Python 3",
   "language": "python",
   "name": "python3"
  },
  "language_info": {
   "codemirror_mode": {
    "name": "ipython",
    "version": 3
   },
   "file_extension": ".py",
   "mimetype": "text/x-python",
   "name": "python",
   "nbconvert_exporter": "python",
   "pygments_lexer": "ipython3",
   "version": "3.8.8"
  }
 },
 "nbformat": 4,
 "nbformat_minor": 5
}

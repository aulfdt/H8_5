{
 "cells": [
  {
   "cell_type": "markdown",
   "id": "409004d8",
   "metadata": {},
   "source": [
    "# Introduction"
   ]
  },
  {
   "cell_type": "markdown",
   "id": "36181d3e",
   "metadata": {},
   "source": [
    "#### Latar Belakang\n",
    "Dataset ini adalah heart failure clinical data. Data ini dikumpulkan dari 299 pasien dengan penyakit jantung gagal. Data ini digunakan untuk memprediksi apakah pasien akan meninggal dalam waktu 1 tahun setelah diagnosis.\n",
    "\n",
    "#### Data yang Digunakan\n",
    "Data ini bersumber dari Kaggle dengan link sebagai berikut : \n",
    "https://www.kaggle.com/datasets/andrewmvd/heart-failure-clinical-data\n",
    "\n",
    "#### Objektif\n",
    "Final Project 3 ini dibuat guna mengevaluasi konsep Ensemble sebagai berikut:\n",
    "1. Mampu memahami konsep Classification dengan Ensemble Model\n",
    "2. Mampu mempersiapkan data untuk digunakan dalam Ensemble Model\n",
    "3. Mampu mengimplementasikan Ensemble Model untuk membuat prediksi"
   ]
  },
  {
   "cell_type": "markdown",
   "id": "32df3dc7",
   "metadata": {},
   "source": [
    "# Import Library"
   ]
  },
  {
   "cell_type": "code",
   "execution_count": null,
   "id": "f9205635",
   "metadata": {},
   "outputs": [],
   "source": [
    "import pandas as pd\n",
    "import numpy as np\n",
    "import matplotlib.pyplot as plt\n",
    "import seaborn as sns\n",
    "import pickle\n",
    "\n",
    "from scipy import stats\n",
    "from sklearn.model_selection import train_test_split\n",
    "from sklearn.preprocessing import StandardScaler\n",
    "from sklearn.metrics import classification_report, accuracy_score, confusion_matrix\n",
    "from sklearn import preprocessing\n",
    "\n",
    "import xgboost\n",
    "from xgboost import XGBClassifier\n",
    "from sklearn.model_selection import GridSearchCV\n",
    "from sklearn.ensemble import GradientBoostingClassifier\n",
    "from sklearn.ensemble import ExtraTreesClassifier\n",
    "from sklearn.ensemble import RandomForestClassifier, VotingClassifier\n",
    "from sklearn.linear_model import LogisticRegression\n",
    "from sklearn.neighbors import KNeighborsClassifier \n",
    "from sklearn.svm import SVC \n",
    "from sklearn.tree import DecisionTreeClassifier \n",
    "from sklearn.ensemble import RandomForestClassifier \n",
    "from sklearn.naive_bayes import GaussianNB \n",
    "from scipy import stats"
   ]
  },
  {
   "cell_type": "markdown",
   "id": "d317ba03",
   "metadata": {},
   "source": [
    "# Data Loading"
   ]
  },
  {
   "cell_type": "code",
   "execution_count": null,
   "id": "781ff716",
   "metadata": {},
   "outputs": [],
   "source": [
    "# Mengimpor dan membaca 5 data teratas pada dataset\n",
    "df = pd.read_csv('heart_failure_clinical_records_dataset.csv')\n",
    "df.head()"
   ]
  },
  {
   "cell_type": "code",
   "execution_count": null,
   "id": "9007e389",
   "metadata": {},
   "outputs": [],
   "source": [
    "# Menampilkan 5 data terbawah pada dataset\n",
    "df.tail()"
   ]
  },
  {
   "cell_type": "code",
   "execution_count": null,
   "id": "a9f79acf",
   "metadata": {},
   "outputs": [],
   "source": [
    "# Menampilkan nama-nama kolom yang terdapat pada dataset ini\n",
    "df.columns"
   ]
  },
  {
   "cell_type": "code",
   "execution_count": null,
   "id": "0b0f1195",
   "metadata": {},
   "outputs": [],
   "source": [
    "# Menampilkan informasi mengenai dataset\n",
    "df.info()"
   ]
  },
  {
   "cell_type": "code",
   "execution_count": null,
   "id": "2e53c66f",
   "metadata": {},
   "outputs": [],
   "source": [
    "# Menampilkan jumlah kolom dan baris pada data\n",
    "df.shape"
   ]
  },
  {
   "cell_type": "markdown",
   "id": "2fc8c8f3",
   "metadata": {},
   "source": [
    "# Data Cleaning"
   ]
  },
  {
   "cell_type": "markdown",
   "id": "fe043238",
   "metadata": {},
   "source": [
    "#### Missing Value"
   ]
  },
  {
   "cell_type": "markdown",
   "id": "f1470f77",
   "metadata": {},
   "source": [
    "Mengecek missing value sebelum melakukan eksplorasi data lebih lanjut."
   ]
  },
  {
   "cell_type": "code",
   "execution_count": null,
   "id": "c2902f3a",
   "metadata": {},
   "outputs": [],
   "source": [
    "df.isnull().sum()"
   ]
  },
  {
   "cell_type": "markdown",
   "id": "0e020c23",
   "metadata": {},
   "source": [
    "Dataset ini bersih, tidak terdapat missing value didalamnya"
   ]
  },
  {
   "cell_type": "code",
   "execution_count": null,
   "id": "1ae00594",
   "metadata": {},
   "outputs": [],
   "source": [
    "# Mengubah nama kolom DEATH_EVENT menjadi death_event\n",
    "df = df.rename(columns={\"DEATH_EVENT\":\"death_event\"})"
   ]
  },
  {
   "cell_type": "markdown",
   "id": "03704be3",
   "metadata": {},
   "source": [
    "# Data Exploration"
   ]
  },
  {
   "cell_type": "markdown",
   "id": "c80a1a67",
   "metadata": {},
   "source": [
    "#### Central Tendency"
   ]
  },
  {
   "cell_type": "code",
   "execution_count": null,
   "id": "3769c481",
   "metadata": {},
   "outputs": [],
   "source": [
    "age = df[\"age\"]\n",
    "mean=age.mean()\n",
    "median=age.median()\n",
    "mode=age.mode()\n",
    "\n",
    "# Print the result\n",
    "print(\"Mean: \", mean)\n",
    "print(\"Median: \", median)\n",
    "print(\"Mode: \", mode)"
   ]
  },
  {
   "cell_type": "markdown",
   "id": "7ddbd942",
   "metadata": {},
   "source": [
    "Berdasarkan output di atas, dapat disimpulkan bahwa:\n",
    "1. Mean usia pasien dengan penyakit jantung gagal adalah 60 tahun.\n",
    "2. Median usia pasien dengan penyakit jantung gagal adalah 60 tahun.\n",
    "3. Mode usia pasien dengan penyakit jantung gagal adalah 60 tahun."
   ]
  },
  {
   "cell_type": "markdown",
   "id": "a0eccad5",
   "metadata": {},
   "source": [
    "#### Crosstab"
   ]
  },
  {
   "cell_type": "code",
   "execution_count": null,
   "id": "ed9da793",
   "metadata": {
    "scrolled": true
   },
   "outputs": [],
   "source": [
    "# Melihat proporsi data pada kolom Usia dan Kematian dengan menggunakan crosstab\n",
    "pd.crosstab(df.death_event, df.age)"
   ]
  },
  {
   "cell_type": "markdown",
   "id": "b30e2d62",
   "metadata": {},
   "source": [
    "#### Grouping"
   ]
  },
  {
   "cell_type": "code",
   "execution_count": null,
   "id": "f54e9296",
   "metadata": {},
   "outputs": [],
   "source": [
    "# Mengelompokkan Data Kategorikal dan Numerical\n",
    "categorical_fit = ['anaemia','diabetes','high_blood_pressure', 'sex', 'smoking','DEATH_EVENT']\n",
    "numerical_fit = ['age', 'creatinine_phosphokinase', 'ejection_fraction', 'platelets', 'serum_creatinine', 'serum_sodium', 'time']"
   ]
  },
  {
   "cell_type": "markdown",
   "id": "1dd22177",
   "metadata": {},
   "source": [
    "#### Visualization"
   ]
  },
  {
   "cell_type": "code",
   "execution_count": null,
   "id": "33c71ade",
   "metadata": {},
   "outputs": [],
   "source": [
    "# Split data menjadi dua kelompok berdasarkan death event\n",
    "df_died = df[df[\"death_event\"] == 1]\n",
    "df_not_died = df[df[\"death_event\"] == 0]\n",
    "\n",
    "# Plot distribusi untuk setiap kelompok\n",
    "plt.figure(figsize=(10, 6))\n",
    "sns.histplot(x=\"age\", hue=\"death_event\", data=df, kde=True, palette=\"muted\")\n",
    "plt.title(\"Distribusi Usia pada death_event\")\n",
    "plt.legend([\"Meninggal\", \"Tidak Meninggal\"], loc=\"upper right\")\n",
    "plt.show()"
   ]
  },
  {
   "cell_type": "markdown",
   "id": "48d158f0",
   "metadata": {},
   "source": [
    "Dari histogram tersebut, dapat disimpulkan bahwa : Kematian lebih sering terjadi pada usia tua. Hal ini terlihat pada puncak histogram yang berada pada rentang usia 60-70 tahun.\n"
   ]
  },
  {
   "cell_type": "code",
   "execution_count": null,
   "id": "8c6dab9c",
   "metadata": {
    "scrolled": true
   },
   "outputs": [],
   "source": [
    "# Plot distribusi gender pada pe\n",
    "plt.figure(figsize=(10, 6))\n",
    "sns.countplot(x=\"sex\", data=df)\n",
    "plt.title(\"Distribusi Jenis Kelamin pada death_event\")\n",
    "plt.show()"
   ]
  },
  {
   "cell_type": "markdown",
   "id": "2aa669ab",
   "metadata": {},
   "source": [
    "Visualisasi ini menunjukkan bahwa proporsi kematian pada pria lebih tinggi daripada wanita. Hal ini menunjukkan bahwa pria memiliki risiko kematian yang lebih tinggi."
   ]
  },
  {
   "cell_type": "markdown",
   "id": "d9b1f44d",
   "metadata": {},
   "source": [
    "#### Analisis Diabetes terhadap Resiko Kematian akibat Gagal Jantung"
   ]
  },
  {
   "cell_type": "code",
   "execution_count": null,
   "id": "c351454b",
   "metadata": {
    "scrolled": true
   },
   "outputs": [],
   "source": [
    "Diabetes = df['diabetes'].value_counts(normalize=True)*100\n",
    "Diabetes"
   ]
  },
  {
   "cell_type": "markdown",
   "id": "6b54084a",
   "metadata": {},
   "source": [
    "Keterangan :\n",
    "0 = Tidak mengidap diabetes\n",
    "1 = Mengidap diabetes"
   ]
  },
  {
   "cell_type": "code",
   "execution_count": null,
   "id": "8a42bdd2",
   "metadata": {},
   "outputs": [],
   "source": [
    "df1 = df[(df['diabetes'] == 0) & (df['death_event'] == 1)]\n",
    "df2 = df[(df['diabetes'] == 1) & (df['death_event'] == 1)]\n",
    "\n",
    "diabetes_death = pd.concat([df1, df2])"
   ]
  },
  {
   "cell_type": "code",
   "execution_count": null,
   "id": "f4467067",
   "metadata": {
    "scrolled": true
   },
   "outputs": [],
   "source": [
    "fig, ax = plt.subplots(figsize=(15, 3))\n",
    "\n",
    "diabetes_death['diabetes'].value_counts().plot.pie(autopct=\"%1.1f%%\",\n",
    "                                                   colors = ['thistle','orchid'],\n",
    "                                                   startangle = 60,\n",
    "                                                   ax=ax, \n",
    "                                                   shadow=True, \n",
    "                                                   explode=[0, 0.1])\n",
    "ax.set_title('Persentase penderita diabetes yang meninggal')\n",
    "plt.show()"
   ]
  },
  {
   "cell_type": "markdown",
   "id": "e9e65258",
   "metadata": {},
   "source": [
    "Keterangan :\n",
    "\n",
    "    0 = tidak mengidap diabetes, \n",
    "    1 = mengidap diabetes\n",
    "    \n",
    "Interpretasi:\n",
    "- Terdapat 58,3% pasien yang tidak mengidap penyakit diabetes meninggal\n",
    "- Terdapat 41,7% pasien yang mengidap penyakit diabetes meninggal\n",
    "\n",
    "Pasien dengan riwayat diabetes memiliki resiko kematian yang lebih rendah dibanding pasien tanpa riwayat diabetes. Sehingga diabetes tidak berpengaruh terhadap resiko kematian gagal jantung"
   ]
  },
  {
   "cell_type": "markdown",
   "id": "719bf9ef",
   "metadata": {},
   "source": [
    "#### Analisis Perokok terhadap Resiko Kematian akibat Gagal Jantung"
   ]
  },
  {
   "cell_type": "code",
   "execution_count": null,
   "id": "76220e09",
   "metadata": {
    "scrolled": true
   },
   "outputs": [],
   "source": [
    "Rokok = df['smoking'].value_counts(normalize=True)*100\n",
    "Rokok"
   ]
  },
  {
   "cell_type": "code",
   "execution_count": null,
   "id": "06d7272e",
   "metadata": {},
   "outputs": [],
   "source": [
    "df3 = df[(df['smoking'] == 0) & (df['death_event'] == 1)]\n",
    "df4 = df[(df['smoking'] == 1) & (df['death_event'] == 1)]\n",
    "\n",
    "smoking_death = pd.concat([df5, df6])"
   ]
  },
  {
   "cell_type": "code",
   "execution_count": null,
   "id": "6e3e6057",
   "metadata": {
    "scrolled": true
   },
   "outputs": [],
   "source": [
    "fig, ax = plt.subplots(figsize=(15, 3))\n",
    "\n",
    "smoking_death['smoking'].value_counts().plot.pie(autopct=\"%1.1f%%\",\n",
    "                                                   colors = ['thistle','orchid'],\n",
    "                                                   startangle = 60,\n",
    "                                                   ax=ax, \n",
    "                                                   shadow=True, \n",
    "                                                   explode=[0, 0.1])\n",
    "ax.set_title('Persentase perokok yang meninggal')\n",
    "plt.show()"
   ]
  },
  {
   "cell_type": "markdown",
   "id": "b05f678c",
   "metadata": {},
   "source": [
    "Keterangan :\n",
    "\n",
    "    0 = tidak merokok, \n",
    "    1 = merokok\n",
    "    \n",
    "Interpretasi:\n",
    "- Terdapat 68,8% pasien yang tidak merokok meninggal\n",
    "- Terdapat 31,2% pasien yang merokok meninggal\n",
    "\n",
    "Pasien dengan riwayat perokok aktif memiliki resiko kematian yang lebih rendah dibanding pasien bukan perokok. Sehingga merokok tidak berpengaruh terhadap resiko kematian gagal jantung"
   ]
  },
  {
   "cell_type": "markdown",
   "id": "3e40ce78",
   "metadata": {},
   "source": [
    "#### Analisis Anemia terhadap Resiko Kematian akibat Gagal Jantung"
   ]
  },
  {
   "cell_type": "code",
   "execution_count": null,
   "id": "de1f53a5",
   "metadata": {
    "scrolled": true
   },
   "outputs": [],
   "source": [
    "Anemia = df['anaemia'].value_counts(normalize=True)*100\n",
    "Anemia"
   ]
  },
  {
   "cell_type": "code",
   "execution_count": null,
   "id": "0394182a",
   "metadata": {},
   "outputs": [],
   "source": [
    "df5 = df[(df['anaemia'] == 0) & (df['death_event'] == 1)]\n",
    "df6 = df[(df['anaemia'] == 1) & (df['death_event'] == 1)]\n",
    "\n",
    "anemia_death = pd.concat([df3, df4])"
   ]
  },
  {
   "cell_type": "code",
   "execution_count": null,
   "id": "5c9d3784",
   "metadata": {
    "scrolled": true
   },
   "outputs": [],
   "source": [
    "fig, ax = plt.subplots(figsize=(15, 3))\n",
    "\n",
    "anemia_death['anaemia'].value_counts().plot.pie(autopct=\"%1.1f%%\",\n",
    "                                                   colors = ['thistle','orchid'],\n",
    "                                                   startangle = 60,\n",
    "                                                   ax=ax, \n",
    "                                                   shadow=True, \n",
    "                                                   explode=[0, 0.1])\n",
    "ax.set_title('Persentase penderita anemia yang meninggal')\n",
    "plt.show()"
   ]
  },
  {
   "cell_type": "markdown",
   "id": "f8f53a6b",
   "metadata": {},
   "source": [
    "Keterangan :\n",
    "\n",
    "    0 = tidak mengidap anemia, \n",
    "    1 = mengidap anemia\n",
    "    \n",
    "Interpretasi:\n",
    "- Terdapat 52,1% pasien yang tidak mengidap anemia meninggal\n",
    "- Terdapat 47,9% pasien yang mengidap anemia meninggal\n",
    "\n",
    "Pasien dengan riwayat anemia memiliki resiko kematian yang lebih rendah dibanding pasien tanpa riwayat anemia. Sehingga anemia tidak berpengaruh terhadap resiko kematian gagal jantung"
   ]
  },
  {
   "cell_type": "markdown",
   "id": "28fe06df",
   "metadata": {},
   "source": [
    "#### Analisis Penderita Darah Tinggi terhadap Resiko Kematian akibat Gagal Jantung"
   ]
  },
  {
   "cell_type": "code",
   "execution_count": null,
   "id": "b16e83e4",
   "metadata": {},
   "outputs": [],
   "source": [
    "Darting = df['high_blood_pressure'].value_counts(normalize=True)*100\n",
    "Darting"
   ]
  },
  {
   "cell_type": "code",
   "execution_count": null,
   "id": "3fcb5819",
   "metadata": {},
   "outputs": [],
   "source": [
    "df7 = df[(df['high_blood_pressure'] == 0) & (df['death_event'] == 1)]\n",
    "df8 = df[(df['high_blood_pressure'] == 1) & (df['death_event'] == 1)]\n",
    "\n",
    "Darting_death = pd.concat([df7, df8])"
   ]
  },
  {
   "cell_type": "code",
   "execution_count": null,
   "id": "5330736b",
   "metadata": {
    "scrolled": true
   },
   "outputs": [],
   "source": [
    "fig, ax = plt.subplots(figsize=(15, 3))\n",
    "Darting_death['high_blood_pressure'].value_counts().plot.pie(autopct=\"%1.1f%%\",\n",
    "                                                   colors = ['thistle','orchid'],\n",
    "                                                   startangle = 60,\n",
    "                                                   ax=ax, \n",
    "                                                   shadow=True, \n",
    "                                                   explode=[0, 0.1])\n",
    "ax.set_title('Persentase penderita darah tinggi yang meninggal')\n",
    "plt.show()"
   ]
  },
  {
   "cell_type": "markdown",
   "id": "6f5c38d7",
   "metadata": {},
   "source": [
    "Keterangan :\n",
    "\n",
    "    0 = tidak memiliki tekanan darah tinggi, \n",
    "    1 = memiliki tekanan darah tinggi\n",
    "    \n",
    "Interpretasi:\n",
    "- Terdapat 59,4% pasien yang tidak menderita darah tinggi\n",
    "- Terdapat 40,6% pasien yang menderita darah tinggi\n",
    "\n",
    "Pasien dengan riwayat darah tinggi memiliki resiko kematian yang lebih rendah dibanding pasien tanpa riwayat darah tinggi. Sehingga Tekanan darah tinggi tidak berpengaruh terhadap resiko kematian gagal jantung"
   ]
  },
  {
   "cell_type": "markdown",
   "id": "54daab41",
   "metadata": {},
   "source": [
    "#### INSIGHT\n",
    "Berdasarkan analisis diatas, dapat ditarik kesimpulan bahwa diabetes, anemia, merokok, dan tekanan darah tinggi tidak berpengaruh secara signifikan terhadap resiko kematian gagal jantung. "
   ]
  },
  {
   "cell_type": "markdown",
   "id": "11dd9795",
   "metadata": {},
   "source": [
    "#### Heatmap"
   ]
  },
  {
   "cell_type": "code",
   "execution_count": null,
   "id": "5e131f6f",
   "metadata": {},
   "outputs": [],
   "source": [
    "plt.figure(figsize=(15, 12))\n",
    "\n",
    "sns.heatmap(df.corr(), annot=True, fmt=\".2f\", vmin=-1, vmax=1, square=True)\n",
    "\n",
    "plt.title(\"Correlation Heatmap\")\n",
    "\n",
    "plt.xticks(rotation=45)\n",
    "plt.yticks(rotation=0)\n",
    "plt.show()"
   ]
  },
  {
   "cell_type": "markdown",
   "id": "6542a33b",
   "metadata": {},
   "source": [
    "# Data Preprocessing"
   ]
  },
  {
   "cell_type": "code",
   "execution_count": null,
   "id": "2fe1cfa4",
   "metadata": {},
   "outputs": [],
   "source": [
    "X = df.drop(\"death_event\",axis=1)\n",
    "y = df[\"death_event\"]"
   ]
  },
  {
   "cell_type": "code",
   "execution_count": null,
   "id": "eac428d9",
   "metadata": {},
   "outputs": [],
   "source": [
    "# Membagi data menjadi train set dan test set\n",
    "X_train, X_test, y_train, y_test = train_test_split(X, y, test_size=0.3, random_state=42)"
   ]
  },
  {
   "cell_type": "markdown",
   "id": "954c2ede",
   "metadata": {},
   "source": [
    "# Model Training"
   ]
  },
  {
   "cell_type": "markdown",
   "id": "f7acee42",
   "metadata": {},
   "source": [
    "#### Logistic Regression"
   ]
  },
  {
   "cell_type": "code",
   "execution_count": null,
   "id": "55c14928",
   "metadata": {},
   "outputs": [],
   "source": [
    "lr = LogisticRegression()\n",
    "lr.fit(X_train, y_train)\n",
    "y_pred_lr = lr.predict(X_test)"
   ]
  },
  {
   "cell_type": "markdown",
   "id": "31015bfe",
   "metadata": {},
   "source": [
    "#### K-Nearest Neighbors"
   ]
  },
  {
   "cell_type": "code",
   "execution_count": null,
   "id": "da6da27c",
   "metadata": {},
   "outputs": [],
   "source": [
    "knn = KNeighborsClassifier()\n",
    "knn.fit(X_train, y_train)\n",
    "y_pred_knn = knn.predict(X_test)"
   ]
  },
  {
   "cell_type": "markdown",
   "id": "9041ebe1",
   "metadata": {},
   "source": [
    "#### Support Vector Machine (SVM)"
   ]
  },
  {
   "cell_type": "code",
   "execution_count": null,
   "id": "1591ec6a",
   "metadata": {},
   "outputs": [],
   "source": [
    "svm = SVC()\n",
    "svm.fit(X_train, y_train)\n",
    "y_pred_svm = svm.predict(X_test)"
   ]
  },
  {
   "cell_type": "markdown",
   "id": "5282fef1",
   "metadata": {},
   "source": [
    "#### Naive Bayes"
   ]
  },
  {
   "cell_type": "code",
   "execution_count": null,
   "id": "b574547c",
   "metadata": {},
   "outputs": [],
   "source": [
    "nb = GaussianNB()\n",
    "nb.fit(X_train, y_train)\n",
    "y_pred_nb = nb.predict(X_test)"
   ]
  },
  {
   "cell_type": "markdown",
   "id": "de54c20f",
   "metadata": {},
   "source": [
    "#### Decision Tree"
   ]
  },
  {
   "cell_type": "code",
   "execution_count": null,
   "id": "abe8f980",
   "metadata": {},
   "outputs": [],
   "source": [
    "dtc = DecisionTreeClassifier()\n",
    "dtc.fit(X_train, y_train)\n",
    "y_pred_dtc = dtc.predict(X_test)"
   ]
  },
  {
   "cell_type": "markdown",
   "id": "453b4ff4",
   "metadata": {},
   "source": [
    "#### Random Forest Classifier"
   ]
  },
  {
   "cell_type": "code",
   "execution_count": null,
   "id": "b8216d6d",
   "metadata": {},
   "outputs": [],
   "source": [
    "rf = RandomForestClassifier()\n",
    "rf.fit(X_train, y_train)\n",
    "y_pred_rf = rf.predict(X_test)"
   ]
  },
  {
   "cell_type": "markdown",
   "id": "f39135bd",
   "metadata": {},
   "source": [
    "#### Gradient Boosting Classifier"
   ]
  },
  {
   "cell_type": "code",
   "execution_count": null,
   "id": "7d5d8b33",
   "metadata": {},
   "outputs": [],
   "source": [
    "gb = GradientBoostingClassifier()\n",
    "gb.fit(X_train, y_train)\n",
    "y_pred_gb = gb.predict(X_test)"
   ]
  },
  {
   "cell_type": "markdown",
   "id": "47d3d5e2",
   "metadata": {},
   "source": [
    "#### Extra Trees Classifier"
   ]
  },
  {
   "cell_type": "code",
   "execution_count": null,
   "id": "1505aa95",
   "metadata": {},
   "outputs": [],
   "source": [
    "et = ExtraTreesClassifier()\n",
    "et.fit(X_train, y_train)\n",
    "y_pred_et = et.predict(X_test)"
   ]
  },
  {
   "cell_type": "markdown",
   "id": "23614b1e",
   "metadata": {},
   "source": [
    "# Model Evaluation"
   ]
  },
  {
   "cell_type": "markdown",
   "id": "f7f25215",
   "metadata": {},
   "source": [
    "#### Logistic Regression"
   ]
  },
  {
   "cell_type": "code",
   "execution_count": null,
   "id": "eb60d7bd",
   "metadata": {},
   "outputs": [],
   "source": [
    "# Evaluasi model Logistic Regression\n",
    "accuracy_lr = accuracy_score(y_test, y_pred_lr)\n",
    "print(\"Accuracy (Logistic Regression):\", accuracy_lr)"
   ]
  },
  {
   "cell_type": "code",
   "execution_count": null,
   "id": "df7f8a9c",
   "metadata": {},
   "outputs": [],
   "source": [
    "# Menampilkan classification report dan confusion matrix\n",
    "print(\"\\nClassification Report (Logistic Regression):\")\n",
    "print(classification_report(y_test, y_pred_lr))\n",
    "\n",
    "print(\"\\nConfusion Matrix (Logistic Regression):\")\n",
    "print(confusion_matrix(y_test, y_pred_lr))"
   ]
  },
  {
   "cell_type": "markdown",
   "id": "2d67294a",
   "metadata": {},
   "source": [
    "#### K-Nearest Neighbour"
   ]
  },
  {
   "cell_type": "code",
   "execution_count": null,
   "id": "3292c688",
   "metadata": {},
   "outputs": [],
   "source": [
    "# Evaluasi model KNN\n",
    "accuracy_knn = accuracy_score(y_test, y_pred_knn)\n",
    "print(\"Accuracy (Logistic Regression):\", accuracy_knn)"
   ]
  },
  {
   "cell_type": "code",
   "execution_count": null,
   "id": "291b284c",
   "metadata": {},
   "outputs": [],
   "source": [
    "# Menampilkan classification report dan confusion matrix\n",
    "print(\"\\nClassification Report (KNN):\")\n",
    "print(classification_report(y_test, y_pred_knn))\n",
    "\n",
    "print(\"\\nConfusion Matrix (KNN):\")\n",
    "print(confusion_matrix(y_test, y_pred_knn))"
   ]
  },
  {
   "cell_type": "markdown",
   "id": "66998296",
   "metadata": {},
   "source": [
    "#### Support Vector Machine (SVM)"
   ]
  },
  {
   "cell_type": "code",
   "execution_count": null,
   "id": "0d765a54",
   "metadata": {},
   "outputs": [],
   "source": [
    "# Evaluasi model SVM\n",
    "accuracy_svm = accuracy_score(y_test, y_pred_svm)\n",
    "print(\"Accuracy (Logistic Regression):\", accuracy_svm)"
   ]
  },
  {
   "cell_type": "code",
   "execution_count": null,
   "id": "7a8170a4",
   "metadata": {},
   "outputs": [],
   "source": [
    "# Menampilkan classification report dan confusion matrix\n",
    "print(\"\\nClassification Report (SVM):\")\n",
    "print(classification_report(y_test, y_pred_svm))\n",
    "\n",
    "print(\"\\nConfusion Matrix (SVM):\")\n",
    "print(confusion_matrix(y_test, y_pred_svm))"
   ]
  },
  {
   "cell_type": "markdown",
   "id": "410ecb08",
   "metadata": {},
   "source": [
    "#### Naive Bayes"
   ]
  },
  {
   "cell_type": "code",
   "execution_count": null,
   "id": "cd23c34b",
   "metadata": {},
   "outputs": [],
   "source": [
    "# Evaluasi model Naive Bayes\n",
    "accuracy_nb = accuracy_score(y_test, y_pred_nb)\n",
    "print(\"Accuracy (Logistic Regression):\", accuracy_nb)"
   ]
  },
  {
   "cell_type": "code",
   "execution_count": null,
   "id": "9e62dabb",
   "metadata": {},
   "outputs": [],
   "source": [
    "# Menampilkan classification report dan confusion matrix\n",
    "print(\"\\nClassification Report (Naive Bayes):\")\n",
    "print(classification_report(y_test, y_pred_nb))\n",
    "\n",
    "print(\"\\nConfusion Matrix (Naive Bayes):\")\n",
    "print(confusion_matrix(y_test, y_pred_nb))"
   ]
  },
  {
   "cell_type": "markdown",
   "id": "d7645db1",
   "metadata": {},
   "source": [
    "#### Decision Tree"
   ]
  },
  {
   "cell_type": "code",
   "execution_count": null,
   "id": "c1286ef1",
   "metadata": {
    "scrolled": true
   },
   "outputs": [],
   "source": [
    "# Evaluasi model Decision Tree\n",
    "accuracy_dt = accuracy_score(y_test, y_pred_dt)\n",
    "print(\"Accuracy (Logistic Regression):\", accuracy_dt)"
   ]
  },
  {
   "cell_type": "code",
   "execution_count": null,
   "id": "8d81eed3",
   "metadata": {},
   "outputs": [],
   "source": [
    "# Menampilkan classification report dan confusion matrix\n",
    "print(\"\\nClassification Report (Decision Tree):\")\n",
    "print(classification_report(y_test, y_pred_dt))\n",
    "\n",
    "print(\"\\nConfusion Matrix (Naive Bayes):\")\n",
    "print(confusion_matrix(y_test, y_pred_dt))"
   ]
  },
  {
   "cell_type": "markdown",
   "id": "7d491b88",
   "metadata": {},
   "source": [
    "#### Random Forest Classifier"
   ]
  },
  {
   "cell_type": "code",
   "execution_count": null,
   "id": "5791baa1",
   "metadata": {},
   "outputs": [],
   "source": [
    "# Evaluasi model Random Forest Classifier\n",
    "accuracy_rf = accuracy_score(y_test, y_pred_rf)\n",
    "print(\"Accuracy (Logistic Regression):\", accuracy_rf)"
   ]
  },
  {
   "cell_type": "code",
   "execution_count": null,
   "id": "c294c5d3",
   "metadata": {},
   "outputs": [],
   "source": [
    "# Menampilkan classification report dan confusion matrix\n",
    "print(\"\\nClassification Report (Random Forest):\")\n",
    "print(classification_report(y_test, y_pred_rf))\n",
    "\n",
    "print(\"\\nConfusion Matrix (Random Forest):\")\n",
    "print(confusion_matrix(y_test, y_pred_rf))"
   ]
  },
  {
   "cell_type": "markdown",
   "id": "1c4b8e25",
   "metadata": {},
   "source": [
    "#### Gradient Boosting Classifier"
   ]
  },
  {
   "cell_type": "code",
   "execution_count": null,
   "id": "c224ddb7",
   "metadata": {},
   "outputs": [],
   "source": [
    "# Evaluasi model Gradient Boosting Classifier\n",
    "accuracy_gb = accuracy_score(y_test, y_pred_gb)\n",
    "print(\"Accuracy (Logistic Regression):\", accuracy_gb)"
   ]
  },
  {
   "cell_type": "code",
   "execution_count": null,
   "id": "d04ce68b",
   "metadata": {},
   "outputs": [],
   "source": [
    "# Menampilkan classification report dan confusion matrix\n",
    "print(\"\\nClassification Report (Gradient Boosting):\")\n",
    "print(classification_report(y_test, y_pred_gb))\n",
    "\n",
    "print(\"\\nConfusion Matrix (Gradient Boosting):\")\n",
    "print(confusion_matrix(y_test, y_pred_gb))"
   ]
  },
  {
   "cell_type": "markdown",
   "id": "7cbd8f0b",
   "metadata": {},
   "source": [
    "#### Extra Tree Classifier"
   ]
  },
  {
   "cell_type": "code",
   "execution_count": null,
   "id": "b0b04c5b",
   "metadata": {},
   "outputs": [],
   "source": [
    "# Evaluasi model Extraa Tree Classifier\n",
    "accuracy_et = accuracy_score(y_test, y_pred_et)\n",
    "print(\"Accuracy (Logistic Regression):\", accuracy_et)"
   ]
  },
  {
   "cell_type": "code",
   "execution_count": null,
   "id": "0284a58a",
   "metadata": {
    "scrolled": false
   },
   "outputs": [],
   "source": [
    "# Menampilkan classification report dan confusion matrix\n",
    "print(\"\\nClassification Report (Extraa Tree):\")\n",
    "print(classification_report(y_test, y_pred_et))\n",
    "\n",
    "print(\"\\nConfusion Matrix (Extra Tree):\")\n",
    "print(confusion_matrix(y_test, y_pred_et))"
   ]
  },
  {
   "cell_type": "markdown",
   "id": "44382277",
   "metadata": {},
   "source": [
    "# Kesimpulan"
   ]
  },
  {
   "cell_type": "markdown",
   "id": "2eb33b05",
   "metadata": {},
   "source": [
    "Berdasarkan data yang telah dianalisis, dapat disimpulkan bahwa:\n",
    "1. Secara umum, kematian lebih umum terjadi pada usia tua. Hal ini terlihat dari puncak histogram yang berada pada rentang usia 70-80 tahun.\n",
    "2. Perbedaan distribusi usia pada peristiwa kematian antara kelompok yang meninggal dan yang tidak meninggal dapat dikaitkan dengan faktor-faktor seperti penyakit kronis dan usia.\n",
    "\n",
    "Berdasarkan visualisasi distribusi jenis kelamin pada peristiwa kematian, dapat disimpulkan bahwa:\n",
    "\n",
    "Proporsi kematian pada pria lebih tinggi daripada proporsi kematian pada wanita. Hal ini menunjukkan bahwa pria memiliki risiko kematian yang lebih tinggi akibat gagal jantung.\n"
   ]
  },
  {
   "cell_type": "code",
   "execution_count": null,
   "id": "c650f955",
   "metadata": {},
   "outputs": [],
   "source": []
  }
 ],
 "metadata": {
  "kernelspec": {
   "display_name": "Python 3 (ipykernel)",
   "language": "python",
   "name": "python3"
  },
  "language_info": {
   "codemirror_mode": {
    "name": "ipython",
    "version": 3
   },
   "file_extension": ".py",
   "mimetype": "text/x-python",
   "name": "python",
   "nbconvert_exporter": "python",
   "pygments_lexer": "ipython3",
   "version": "3.11.5"
  }
 },
 "nbformat": 4,
 "nbformat_minor": 5
}

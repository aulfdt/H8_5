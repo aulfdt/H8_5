{
 "cells": [
  {
   "cell_type": "markdown",
   "id": "864baf09",
   "metadata": {},
   "source": [
    "# Python Function"
   ]
  },
  {
   "cell_type": "markdown",
   "id": "8124af15",
   "metadata": {},
   "source": [
    "### Calling a Function"
   ]
  },
  {
   "cell_type": "code",
   "execution_count": 10,
   "id": "8aeef95e",
   "metadata": {},
   "outputs": [
    {
     "name": "stdout",
     "output_type": "stream",
     "text": [
      "I'm first call to user defined function!\n",
      "Again second call to the same function\n"
     ]
    }
   ],
   "source": [
    "# Function definition is here\n",
    "def printme( str ):\n",
    "    \"This prints a passed string into this function\"\n",
    "    print( str )\n",
    "    return\n",
    "# Now you can call me printme function\n",
    "printme(\"I'm first call to user defined function!\")\n",
    "printme(\"Again second call to the same function\")"
   ]
  },
  {
   "cell_type": "markdown",
   "id": "bc0c801f",
   "metadata": {},
   "source": [
    "### Pass by reference vs value"
   ]
  },
  {
   "cell_type": "code",
   "execution_count": 14,
   "id": "7a342e84",
   "metadata": {},
   "outputs": [
    {
     "name": "stdout",
     "output_type": "stream",
     "text": [
      "Values inside the function: [10, 20, 30, [1, 2, 3, 4]]\n",
      "Values outside the function: [10, 20, 30, [1, 2, 3, 4]]\n"
     ]
    }
   ],
   "source": [
    "# Function definition is here\n",
    "def changeme(mylist):\n",
    "    \"This changes a passed list into this function\"\n",
    "    mylist.append([1, 2, 3, 4])\n",
    "    print(\"Values inside the function:\", mylist)\n",
    "    return\n",
    "\n",
    "# Now you can call changeme function\n",
    "mylist = [10, 20, 30]\n",
    "changeme(mylist)\n",
    "print(\"Values outside the function:\", mylist)\n"
   ]
  },
  {
   "cell_type": "markdown",
   "id": "4fa89770",
   "metadata": {},
   "source": [
    "### Function Arguments"
   ]
  },
  {
   "cell_type": "markdown",
   "id": "5604c07a",
   "metadata": {},
   "source": [
    "#### Required Arguments"
   ]
  },
  {
   "cell_type": "code",
   "execution_count": 15,
   "id": "75fdd5cf",
   "metadata": {},
   "outputs": [
    {
     "ename": "TypeError",
     "evalue": "printme() missing 1 required positional argument: 'str'",
     "output_type": "error",
     "traceback": [
      "\u001b[1;31m---------------------------------------------------------------------------\u001b[0m",
      "\u001b[1;31mTypeError\u001b[0m                                 Traceback (most recent call last)",
      "\u001b[1;32m<ipython-input-15-c6bffa9d09f5>\u001b[0m in \u001b[0;36m<module>\u001b[1;34m\u001b[0m\n\u001b[0;32m      3\u001b[0m     \u001b[0mprint\u001b[0m\u001b[1;33m(\u001b[0m\u001b[0mstr\u001b[0m\u001b[1;33m)\u001b[0m\u001b[1;33m\u001b[0m\u001b[1;33m\u001b[0m\u001b[0m\n\u001b[0;32m      4\u001b[0m     \u001b[1;32mreturn\u001b[0m\u001b[1;33m;\u001b[0m\u001b[1;33m\u001b[0m\u001b[1;33m\u001b[0m\u001b[0m\n\u001b[1;32m----> 5\u001b[1;33m \u001b[0mprintme\u001b[0m\u001b[1;33m(\u001b[0m\u001b[1;33m)\u001b[0m\u001b[1;33m\u001b[0m\u001b[1;33m\u001b[0m\u001b[0m\n\u001b[0m",
      "\u001b[1;31mTypeError\u001b[0m: printme() missing 1 required positional argument: 'str'"
     ]
    }
   ],
   "source": [
    "# Function definition is here\n",
    "def printme( str ):\n",
    "    \"This prints a passed string into this function\"\n",
    "    print(str)\n",
    "    return;\n",
    "# Now you can call printme function\n",
    "printme()"
   ]
  },
  {
   "cell_type": "markdown",
   "id": "05a3b655",
   "metadata": {},
   "source": [
    "#### Keyword arguments"
   ]
  },
  {
   "cell_type": "code",
   "execution_count": 18,
   "id": "4be14af4",
   "metadata": {},
   "outputs": [
    {
     "name": "stdout",
     "output_type": "stream",
     "text": [
      "Hactiv8\n"
     ]
    }
   ],
   "source": [
    "# Function definiton is here\n",
    "def printme( str ):\n",
    "    \"This prints a passed string into this function\"\n",
    "    print(str)\n",
    "    return\n",
    "#Now you can cal printme function\n",
    "printme(str = \"Hactiv8\")"
   ]
  },
  {
   "cell_type": "code",
   "execution_count": 1,
   "id": "be7e1a4a",
   "metadata": {},
   "outputs": [
    {
     "name": "stdout",
     "output_type": "stream",
     "text": [
      "Name:  hactiv8\n",
      "Age:  4\n"
     ]
    }
   ],
   "source": [
    "# Function definiton is here\n",
    "def printinfo( name, age ):\n",
    "    \"This prints a passed info into this function\"\n",
    "    print(\"Name: \", name)\n",
    "    print(\"Age: \", age)\n",
    "    return\n",
    "#Now you can cal printme function\n",
    "printinfo( age=4, name=\"hactiv8\")"
   ]
  },
  {
   "cell_type": "markdown",
   "id": "cd5d2d36",
   "metadata": {},
   "source": [
    "#### Default arguments"
   ]
  },
  {
   "cell_type": "code",
   "execution_count": 2,
   "id": "89973745",
   "metadata": {},
   "outputs": [
    {
     "name": "stdout",
     "output_type": "stream",
     "text": [
      "Name:  hactiv8\n",
      "Age:  50\n",
      "Name:  hactiv8\n",
      "Age:  26\n"
     ]
    }
   ],
   "source": [
    "# Function definition is here\n",
    "def printinfo( name, age = 26):\n",
    "    \"This prints a passed info into this function\"\n",
    "    print(\"Name: \", name)\n",
    "    print(\"Age: \", age)\n",
    "    return;\n",
    "\n",
    "#Now you can call printinfo function\n",
    "printinfo( age=50, name=\"hactiv8\" )\n",
    "printinfo( name=\"hactiv8\" )"
   ]
  },
  {
   "cell_type": "markdown",
   "id": "780d9414",
   "metadata": {},
   "source": [
    "#### Variable-length arguments"
   ]
  },
  {
   "cell_type": "code",
   "execution_count": 4,
   "id": "5332e01b",
   "metadata": {},
   "outputs": [
    {
     "name": "stdout",
     "output_type": "stream",
     "text": [
      "Output is: \n",
      "10\n",
      "Output is: \n",
      "70\n",
      "60\n",
      "50\n",
      "a\n"
     ]
    }
   ],
   "source": [
    "# Function definition is here\n",
    "def printinfo( arg1, *vartuple ):\n",
    "    \"This prints a variable passed arguments\"\n",
    "    print(\"Output is: \")\n",
    "    print(arg1)\n",
    "    for var in vartuple:\n",
    "        print(var)\n",
    "    return;\n",
    "\n",
    "#Now you can call printinfo function\n",
    "printinfo( 10 )\n",
    "printinfo( 70, 60, 50, \"a\" )"
   ]
  },
  {
   "cell_type": "markdown",
   "id": "af62e3e5",
   "metadata": {},
   "source": [
    "### The Anonymous Functions"
   ]
  },
  {
   "cell_type": "code",
   "execution_count": 7,
   "id": "1690508d",
   "metadata": {},
   "outputs": [
    {
     "name": "stdout",
     "output_type": "stream",
     "text": [
      "Value of total :  None\n",
      "Value of total :  None\n"
     ]
    }
   ],
   "source": [
    "#Function definition is here\n",
    "sum = lambda arg1, arg2: arg1 + arg2;\n",
    "\n",
    "def sum(arg1, arg2):\n",
    "    arg1 + arg2\n",
    "    \n",
    "#Now you can call sum as a function\n",
    "print(\"Value of total : \", sum( 10, 20 ))\n",
    "print(\"Value of total : \", sum( 20, 20 ))"
   ]
  },
  {
   "cell_type": "code",
   "execution_count": 8,
   "id": "9490a672",
   "metadata": {},
   "outputs": [
    {
     "name": "stdout",
     "output_type": "stream",
     "text": [
      "Value of total :  30\n",
      "Value of total :  40\n"
     ]
    }
   ],
   "source": [
    "#Function definition is here\n",
    "sum = lambda arg1, arg2: arg1 + arg2;\n",
    "\n",
    "def sum(arg1, arg2):\n",
    "    return arg1 + arg2 #ditambah return biar hasilnya sesuai\n",
    "    \n",
    "#Now you can call sum as a function\n",
    "print(\"Value of total : \", sum( 10, 20 ))\n",
    "print(\"Value of total : \", sum( 20, 20 ))"
   ]
  },
  {
   "cell_type": "markdown",
   "id": "68e014c9",
   "metadata": {},
   "source": [
    "### The return Statement"
   ]
  },
  {
   "cell_type": "code",
   "execution_count": 9,
   "id": "0cee6ff8",
   "metadata": {},
   "outputs": [
    {
     "name": "stdout",
     "output_type": "stream",
     "text": [
      "Inside the function :  30\n",
      "Outside the function:  40\n"
     ]
    }
   ],
   "source": [
    "# Function definition is here\n",
    "def sum(arg1, arg2):\n",
    "    # Add both the parameters and return them.\n",
    "    total = arg1 + arg2\n",
    "    total2 = total + arg1\n",
    "    print(\"Inside the function : \", total)\n",
    "    return total2\n",
    "\n",
    "# Now you can call sum function\n",
    "total = sum(10,20)\n",
    "print(\"Outside the function: \", total)"
   ]
  },
  {
   "cell_type": "markdown",
   "id": "700c39dc",
   "metadata": {},
   "source": [
    "### Scope of Variables"
   ]
  },
  {
   "cell_type": "code",
   "execution_count": 10,
   "id": "30efafa7",
   "metadata": {},
   "outputs": [
    {
     "ename": "IndentationError",
     "evalue": "expected an indented block (<ipython-input-10-726712c0fc82>, line 11)",
     "output_type": "error",
     "traceback": [
      "\u001b[1;36m  File \u001b[1;32m\"<ipython-input-10-726712c0fc82>\"\u001b[1;36m, line \u001b[1;32m11\u001b[0m\n\u001b[1;33m    sum( 10, 20 );\u001b[0m\n\u001b[1;37m    ^\u001b[0m\n\u001b[1;31mIndentationError\u001b[0m\u001b[1;31m:\u001b[0m expected an indented block\n"
     ]
    }
   ],
   "source": [
    "total = 0;\n",
    "\n",
    "def sum( arg1, arg2 ):\n",
    "    \n",
    "    total= arg1 + arg2;\n",
    "    print(\"Inside the function local total : \", total)\n",
    "    return total;\n",
    "\n",
    "def min():\n",
    "    \n",
    "sum( 10, 20 );\n",
    "print(\"Outside the function global total : \", total)"
   ]
  },
  {
   "cell_type": "code",
   "execution_count": 11,
   "id": "6e531de9",
   "metadata": {},
   "outputs": [
    {
     "data": {
      "text/plain": [
       "40"
      ]
     },
     "execution_count": 11,
     "metadata": {},
     "output_type": "execute_result"
    }
   ],
   "source": [
    "jumlahKucing = 20\n",
    "\n",
    "def jumlahHewan():\n",
    "    jumlahAnjing = 30\n",
    "    return jumlahKucing + jumlahAnjing\n",
    "\n",
    "def jumlahKelinci():\n",
    "    return jumlahKucing + jumlahKucing\n",
    "\n",
    "jumlahHewan()\n",
    "jumlahKelinci()"
   ]
  },
  {
   "cell_type": "code",
   "execution_count": null,
   "id": "a1729e95",
   "metadata": {},
   "outputs": [],
   "source": []
  }
 ],
 "metadata": {
  "kernelspec": {
   "display_name": "Python 3",
   "language": "python",
   "name": "python3"
  },
  "language_info": {
   "codemirror_mode": {
    "name": "ipython",
    "version": 3
   },
   "file_extension": ".py",
   "mimetype": "text/x-python",
   "name": "python",
   "nbconvert_exporter": "python",
   "pygments_lexer": "ipython3",
   "version": "3.8.8"
  }
 },
 "nbformat": 4,
 "nbformat_minor": 5
}
